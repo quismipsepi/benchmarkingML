{
 "cells": [
  {
   "cell_type": "markdown",
   "metadata": {
    "colab": {
     "base_uri": "https://localhost:8080/",
     "height": 107
    },
    "colab_type": "code",
    "id": "4IItGrzV8dWZ",
    "outputId": "6efd7c9f-c4dc-4a85-f06a-2fda61595655"
   },
   "source": [
    "This notebook accompanies the paper \"Benchmarking Machine Learning Software and Hardware for Quantitative Economics\" and shows how to solve the sovereign default model of Arellano (AER 2008) using TensorFlow. For a desciption of the model, see the main text or https://lectures.quantecon.org/py/arellano.html."
   ]
  },
  {
   "cell_type": "code",
   "execution_count": null,
   "metadata": {},
   "outputs": [],
   "source": [
    "# Import libraries\n",
    "import time\n",
    "import numpy as np\n",
    "import tensorflow as tf\n",
    "import matplotlib.pyplot as plt\n",
    "\n",
    "# grid for log endowment\n",
    "logy_grid = np.loadtxt('./Sovereign_Default/logy_grid.txt', dtype=np.float32)\n",
    "\n",
    "# Transition matrix, computed with Tauchen's method\n",
    "Py = np.loadtxt('./Sovereign_Default/P.txt', dtype=np.float32)\n",
    "\n",
    "# Grid size for bond holdings\n",
    "nB = 351\n",
    "\n",
    "# Grid size for endowment\n",
    "ny = len(logy_grid)\n",
    "\n",
    "# Model parameters\n",
    "β = .953\n",
    "γ = 2.\n",
    "r = 0.017\n",
    "θ = 0.282"
   ]
  },
  {
   "cell_type": "code",
   "execution_count": null,
   "metadata": {},
   "outputs": [],
   "source": [
    "''' Here we will define the computation graph. By default, TensorFlow executes in graph mode, so\n",
    "    none of these intermediary operations are executed in this block. In this application,\n",
    "    this eliminates overhead.'''\n",
    "\n",
    "# Grid for bond holdings\n",
    "Bgrid = tf.linspace(-.45, .45, nB)\n",
    "ygrid = tf.exp(logy_grid)\n",
    "\n",
    "# Initialize value functions and bond price\n",
    "Vd = tf.Variable(tf.zeros([ny, 1]))   # Value function when if sov. defaults\n",
    "Vc = tf.Variable(tf.zeros((ny, nB)))  # Value function when if sov. does not default\n",
    "V = tf.Variable(tf.zeros((ny, nB)))   # Value function\n",
    "Q = tf.Variable(tf.ones((ny, nB)) * .95)  # Bond price\n",
    "\n",
    "# Expectations\n",
    "EV = Py @ V\n",
    "EVd = Py @ Vd\n",
    "EVc = Py @ Vc\n",
    "\n",
    "# Reshape grids to facilitate broacasting operations. Dimensions are:\n",
    "# 0: endowment dimension\n",
    "# 1: Bondholdings dimension\n",
    "# 2: Bondholdings in the next period dimension\n",
    "y = tf.reshape(ygrid, [-1, 1, 1])\n",
    "B = tf.reshape(Bgrid, [1, -1, 1])\n",
    "Bnext = tf.reshape(Bgrid, [1, 1, -1])\n",
    "\n",
    "zero_ind = nB // 2  # Index of zero bond holdings\n",
    "\n",
    "# Utility function\n",
    "def u(c):\n",
    "    return c**(1 - γ) / (1 - γ)\n",
    "\n",
    "ymean = tf.reduce_mean(ygrid)\n",
    "\n",
    "# Endowment in autarky\n",
    "def_y = tf.minimum(0.969 * ymean, ygrid)\n",
    "\n",
    "# bellman target for Vd\n",
    "Vd_target = u(def_y) + β * (θ * EVc[:, zero_ind] + (1 - θ) * EVd[:, 0])\n",
    "Vd_target = tf.reshape(Vd_target, [-1, 1])\n",
    "\n",
    "# bond price next period\n",
    "Qnext = tf.expand_dims(Q, axis=1)\n",
    "\n",
    "# Bellman target for Vc\n",
    "c = tf.maximum(y - Qnext * Bnext + B, 1e-14)\n",
    "EV = tf.expand_dims(EV, axis=1)\n",
    "m = u(c) + β * EV\n",
    "Vc_target = tf.reduce_max(m, axis=2)\n",
    "\n",
    "# Update bond price--- risk neutral pricing\n",
    "default_states = tf.cast(Vd > Vc, tf.float32)\n",
    "default_prob = Py @ default_states\n",
    "Q_target = (1 - default_prob) / (1 + r)\n",
    "\n",
    "# Value function\n",
    "V_target = tf.maximum(Vc, Vd)\n",
    "\n",
    "# Create operations to update all tensors\n",
    "update_V = V.assign(V_target)\n",
    "update_Vc = Vc.assign(Vc_target)\n",
    "update_Vd = Vd.assign(Vd_target)\n",
    "update_Q = Q.assign(Q_target)\n",
    "update = tf.group(update_V, update_Vc, update_Vd, update_Q)"
   ]
  },
  {
   "cell_type": "code",
   "execution_count": 5,
   "metadata": {},
   "outputs": [
    {
     "name": "stdout",
     "output_type": "stream",
     "text": [
      "0.033284247\n",
      "0.98328435\n",
      "0.98328435\n",
      "0.11247155\n",
      "0.0\n"
     ]
    }
   ],
   "source": [
    "''' This is the block in which we execute the operations defined above. Before this execution, we must first \n",
    "launch a session. This is what ensures that the operations will be executed using C++ and CUDA kernels as opposed\n",
    "to being executed by the Python interpreter.'''\n",
    "\n",
    "# We instruct TensorFlow to use the XLA compiler (optional).\n",
    "config = tf.ConfigProto()\n",
    "config.graph_options.optimizer_options.global_jit_level = 1\n",
    "\n",
    "# Now we launch the session and initialize global variables\n",
    "sess = tf.Session(config=config)\n",
    "sess.run(tf.global_variables_initializer())\n",
    "\n",
    "# Finally we iterate until convergence. Iterating means executing the \"update\" operation\n",
    "# defined in the block above. We say that the procedure \"converged\" if the difference between Q\n",
    "# and it's previous value is less than 1e-8. Finally we monitor that difference by printing it\n",
    "# every 20 iterations\n",
    "Q_ = sess.run(Q)  # Q_ is the numerical value of the symbolic tensor Q\n",
    "for counter in range(10000):\n",
    "    sess.run(update)\n",
    "    \n",
    "    if counter % 20 == 0:\n",
    "        Qnew_ = sess.run(Q)\n",
    "        error = np.abs(Qnew_ - Q_).max()\n",
    "        print(error)\n",
    "        Q_ = Qnew_\n",
    "        if error < 1e-8 and counter > 0:\n",
    "            break\n"
   ]
  },
  {
   "cell_type": "code",
   "execution_count": 6,
   "metadata": {
    "colab": {
     "base_uri": "https://localhost:8080/",
     "height": 433
    },
    "colab_type": "code",
    "id": "fL2XBX_38Vo2",
    "outputId": "6427d6f7-7108-44c3-89be-e3877e77944c"
   },
   "outputs": [
    {
     "data": {
      "image/png": "[encoded data removed]",
      "text/plain": [
       "<Figure size 720x468 with 2 Axes>"
      ]
     },
     "metadata": {
      "needs_background": "light"
     },
     "output_type": "display_data"
    }
   ],
   "source": [
    "# Create plots\n",
    "xx, yy = sess.run([Bgrid, ygrid])\n",
    "zz = sess.run(default_prob)\n",
    "\n",
    "fig, ax = plt.subplots(figsize=(10, 6.5))\n",
    "hm = ax.pcolormesh(xx, yy, zz)\n",
    "cax = fig.add_axes([.92, .1, .02, .8])\n",
    "fig.colorbar(hm, cax=cax)\n",
    "ax.axis([xx.min(), 0.05, yy.min(), yy.max()])\n",
    "ax.set(xlabel=\"$B'$\", ylabel=\"$y$\", title=\"Probability of Default\")\n",
    "plt.show()"
   ]
  },
  {
   "cell_type": "code",
   "execution_count": 0,
   "metadata": {
    "colab": {},
    "colab_type": "code",
    "id": "UuW4w-4hWA8g"
   },
   "outputs": [],
   "source": []
  }
 ],
 "metadata": {
  "accelerator": "GPU",
  "colab": {
   "collapsed_sections": [],
   "name": "Arellano 2008 on TF.ipynb",
   "provenance": [],
   "version": "0.3.2"
  },
  "kernelspec": {
   "display_name": "Python 3",
   "language": "python",
   "name": "python3"
  },
  "language_info": {
   "codemirror_mode": {
    "name": "ipython",
    "version": 3
   },
   "file_extension": ".py",
   "mimetype": "text/x-python",
   "name": "python",
   "nbconvert_exporter": "python",
   "pygments_lexer": "ipython3",
   "version": "3.7.3"
  }
 },
 "nbformat": 4,
 "nbformat_minor": 1
}
