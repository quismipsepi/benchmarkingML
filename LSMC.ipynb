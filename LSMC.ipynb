{
 "cells": [
  {
   "cell_type": "markdown",
   "metadata": {},
   "source": [
    "## Least Squares Monte Carlo (LSMC) Algorithm\n",
    "\n",
    "This notebook explains in detail the implementation of the LSMC algorithm using Python/Numpy.\n",
    "The implementations using different languages/framework follow a similar structure."
   ]
  },
  {
   "cell_type": "markdown",
   "metadata": {},
   "source": [
    "We first import numpy and set the option parameters"
   ]
  },
  {
   "cell_type": "code",
   "execution_count": 3,
   "metadata": {},
   "outputs": [],
   "source": [
    "import numpy as np\n",
    "\n",
    "Spot = 36\n",
    "σ = 0.2\n",
    "n = 100000\n",
    "m = 10\n",
    "K = 40\n",
    "r = 0.06\n",
    "T = 1\n",
    "Δt = T / m\n",
    "zeros = np.zeros(n)\n",
    "t_span = np.round(np.arange(Δt, T + Δt, Δt), 6)"
   ]
  },
  {
   "cell_type": "markdown",
   "metadata": {},
   "source": [
    "The function first_one_np(POF) is only used at the end of the LSMC algorithm. It receives a matrix of payoffs and  identifies the time period where the put option is exercised for each of the $n$ simulated paths. "
   ]
  },
  {
   "cell_type": "code",
   "execution_count": 4,
   "metadata": {},
   "outputs": [],
   "source": [
    "def first_one_np(x):\n",
    "    original = x\n",
    "    x = np.greater(x, 0.)\n",
    "    batch_size, n_columns = (x.shape[0], x.shape[1])\n",
    "    x_not = 1 - x\n",
    "    sum_x = np.minimum(np.cumprod(x_not, axis=1), 1.)\n",
    "    ones = np.ones((batch_size, 1))\n",
    "    lag = sum_x[:, :(n_columns - 1)]\n",
    "    lag = np.column_stack([ones, lag])\n",
    "    return original * (lag * x)"
   ]
  },
  {
   "cell_type": "markdown",
   "metadata": {},
   "source": [
    "We define the function scale(x) that linearly scales a vector x to the domain [-1, 1], as required by Chebyshev polynomials"
   ]
  },
  {
   "cell_type": "code",
   "execution_count": 5,
   "metadata": {},
   "outputs": [],
   "source": [
    "def scale(x):\n",
    "        xmin = x.min()\n",
    "        xmax = x.max()\n",
    "        a = 2 / (xmax - xmin)\n",
    "        b = -0.5 * a * (xmin + xmax)\n",
    "        return a * x + b"
   ]
  },
  {
   "cell_type": "markdown",
   "metadata": {},
   "source": [
    "The function chebyshev_basis(x, k) creates a matrix with the Chebyshev polynomials of first kind up to the degree k, evaluated at the x. \n",
    "Thus, the function returns a matrix where the $n$-th column is $T_n(x)$, for $0\\leq n\\leq k$."
   ]
  },
  {
   "cell_type": "code",
   "execution_count": 6,
   "metadata": {},
   "outputs": [],
   "source": [
    "def chebyshev_basis(x, k):\n",
    "    B = {}\n",
    "    B[0] = np.ones_like(x)\n",
    "    B[1] = x\n",
    "    for n in range(2, k):\n",
    "        B[n] = 2 * x * B[n - 1] - B[n - 2]\n",
    "\n",
    "    return np.column_stack(list(B.values()))"
   ]
  },
  {
   "cell_type": "markdown",
   "metadata": {},
   "source": [
    "Function that performs a ridge regression with $L_2$ penalty $\\lambda$. That is, given a matrix $X$ and a vector $Y$, this function solves the least squares problem:\n",
    "\n",
    "$$\n",
    "    \\beta = argmin_Z ||X Z - Y||^2 + \\lambda ||Z||^2  \n",
    "$$\n",
    "\n",
    "and returns\n",
    "\n",
    "$$\n",
    "    \\hat{Y} \\equiv X \\beta\n",
    "$$"
   ]
  },
  {
   "cell_type": "code",
   "execution_count": 7,
   "metadata": {},
   "outputs": [],
   "source": [
    "def ridge_regression(X, Y, λ=100):\n",
    "    I = np.eye(X.shape[1])\n",
    "    β = np.linalg.solve(X.T @ X + λ * I, X.T @ Y)\n",
    "    return X @ β"
   ]
  },
  {
   "cell_type": "markdown",
   "metadata": {},
   "source": [
    "The function advance(S) simulates the evolution of the stock price for one step and $n$ paths."
   ]
  },
  {
   "cell_type": "code",
   "execution_count": 8,
   "metadata": {},
   "outputs": [],
   "source": [
    "def advance(S):\n",
    "    dB = np.sqrt(Δt) * np.random.normal(size=[n])\n",
    "    out = S + r * S * Δt + σ * S * dB\n",
    "    return out"
   ]
  },
  {
   "cell_type": "markdown",
   "metadata": {},
   "source": [
    "The function main(order) contains the core of the LSMC algorithm and has the order of the Chebyshev polinomial as its input. In the first block, it uses the function advance(S) to simulate $n$ paths for the lifetime of the option. With the simulated paths, the algorithm proceeds backward in time and regress the discounted option payoff at time $t$\n",
    "\\[e^{-r \\Delta t} \\max(0, K - S(t))\\] \n",
    "on the Chebyshev polynomial basis of $S(t-\\Delta t)$.\n",
    "\n",
    "With the $\\beta$ coefficients from the regression analysis, the continuation value (CV) is calculated by evaluating the regression on the Chebyshev polynomial basis of $S(t-\\Delta t)$ grid. \n",
    "The option value at time $t-\\Delta t$ is set as the discounted payoff $e^{-r \\Delta t} \\max(0, K - S(t-\\Delta t))$ if this quantity is higher than the continuation value, and as the discounted option value otherwise.\n",
    "\n",
    "In the last block, the function calls first_one_np(POF) to identify the exercise times on the payoff matrix POF and average the payments to calculate the price. "
   ]
  },
  {
   "cell_type": "code",
   "execution_count": 9,
   "metadata": {},
   "outputs": [],
   "source": [
    "def main(order):\n",
    "    S = {0.: Spot * np.ones([n])}\n",
    "\n",
    "    for t in t_span:\n",
    "        t_previous = np.round(t - Δt, 6)\n",
    "        S[t] = advance(S[t_previous])\n",
    "\n",
    "    CFL = {t: np.maximum(0., K - S[t]) for t in list(S.keys())}\n",
    "    value = {T: CFL[T] * np.exp(-r * Δt)}\n",
    "    CV = {T: zeros}\n",
    "\n",
    "    for t in t_span[::-1][1:]:\n",
    "        t_next = np.round(t + Δt, 6)\n",
    "        XX = chebyshev_basis(scale(S[t]), order)\n",
    "        YY = value[t_next]\n",
    "        CV[t] = ridge_regression(XX, YY)\n",
    "        value[t] = np.exp(-r * Δt) * np.where(CFL[t] > CV[t],\n",
    "                                       CFL[t],\n",
    "                                       value[t_next])\n",
    "\n",
    "    POF = {t: np.where(CV[t] > CFL[t], zeros, CFL[t]) for t in t_span}\n",
    "    POF = np.stack(list(POF.values()), axis=1)\n",
    "\n",
    "    FPOF = first_one_np(POF)\n",
    "    dFPOF = {i: FPOF[:, i] * np.exp(-r * i * Δt) for i in range(m)}\n",
    "    dFPOF = np.column_stack(list(dFPOF.values()))\n",
    "    PRICE = dFPOF.sum(axis=1).mean()\n",
    "    return PRICE"
   ]
  },
  {
   "cell_type": "code",
   "execution_count": 10,
   "metadata": {},
   "outputs": [
    {
     "name": "stdout",
     "output_type": "stream",
     "text": [
      "4.465195732326405\n"
     ]
    }
   ],
   "source": [
    "# Simulate many times:\n",
    "print(np.mean([main(10) for _ in range(100)]))"
   ]
  },
  {
   "cell_type": "code",
   "execution_count": null,
   "metadata": {},
   "outputs": [],
   "source": []
  }
 ],
 "metadata": {
  "kernelspec": {
   "display_name": "Python 3",
   "language": "python",
   "name": "python3"
  },
  "language_info": {
   "codemirror_mode": {
    "name": "ipython",
    "version": 3
   },
   "file_extension": ".py",
   "mimetype": "text/x-python",
   "name": "python",
   "nbconvert_exporter": "python",
   "pygments_lexer": "ipython3",
   "version": "3.7.3"
  },
  "latex_envs": {
   "LaTeX_envs_menu_present": true,
   "autoclose": false,
   "autocomplete": true,
   "bibliofile": "biblio.bib",
   "cite_by": "apalike",
   "current_citInitial": 1,
   "eqLabelWithNumbers": true,
   "eqNumInitial": 1,
   "hotkeys": {
    "equation": "Ctrl-E",
    "itemize": "Ctrl-I"
   },
   "labels_anchors": false,
   "latex_user_defs": false,
   "report_style_numbering": false,
   "user_envs_cfg": false
  }
 },
 "nbformat": 4,
 "nbformat_minor": 2
}
